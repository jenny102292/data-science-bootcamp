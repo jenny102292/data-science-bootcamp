{
  "nbformat": 4,
  "nbformat_minor": 0,
  "metadata": {
    "colab": {
      "provenance": [],
      "authorship_tag": "ABX9TyPkzih0JaLPnUT7oJbEx5HA",
      "include_colab_link": true
    },
    "kernelspec": {
      "name": "python3",
      "display_name": "Python 3"
    },
    "language_info": {
      "name": "python"
    }
  },
  "cells": [
    {
      "cell_type": "markdown",
      "metadata": {
        "id": "view-in-github",
        "colab_type": "text"
      },
      "source": [
        "<a href=\"https://colab.research.google.com/github/jenny102292/data-science-bootcamp/blob/main/06_uczenie_maszynowe/03_metryki_regresja.ipynb\" target=\"_parent\"><img src=\"https://colab.research.google.com/assets/colab-badge.svg\" alt=\"Open In Colab\"/></a>"
      ]
    },
    {
      "cell_type": "markdown",
      "source": [
        "### scikit-learn\n",
        ">Strona biblioteki: [https://scikit-learn.org](https://scikit-learn.org)  \n",
        ">\n",
        ">Dokumentacja/User Guide: [https://scikit-learn.org/stable/user_guide.html](https://scikit-learn.org/stable/user_guide.html)\n",
        ">\n",
        ">Podstawowa biblioteka do uczenia maszynowego w języku Python.\n",
        ">\n",
        ">Aby zainstalować bibliotekę scikit-learn, użyj polecenia poniżej:\n",
        "```\n",
        "pip install scikit-learn\n",
        "```"
      ],
      "metadata": {
        "id": "f0XrLZbUc9R8"
      }
    },
    {
      "cell_type": "markdown",
      "source": [
        "### Metryki - problem regresji:"
      ],
      "metadata": {
        "id": "dHPAsunzdC2Q"
      }
    },
    {
      "cell_type": "markdown",
      "source": [
        "1. [Import bibliotek](#a1)\n",
        "2. [Interpretacja graficzna](#a2)\n",
        "3. [Mean Absolute Error - MAE - średni błąd bezwzględny](#a3)\n",
        "4. [Mean Squared Error - MSE - błąd średniokwadratowy](#a4)\n",
        "5. [Roor Mean Squared Error - RMSE - pierwiastek błędu średniokwadratowego](#a5)\n",
        "6. [Max Error - błąd maksymalny](#a6)\n",
        "7. [R2 score - współczynnik determinacji](#a7)"
      ],
      "metadata": {
        "id": "_lSPuHf-dMiX"
      }
    },
    {
      "cell_type": "markdown",
      "source": [
        "### <a name='a1'></a> Import bibliotek"
      ],
      "metadata": {
        "id": "CyE1Iv_QeLpB"
      }
    },
    {
      "cell_type": "code",
      "execution_count": 3,
      "metadata": {
        "id": "4u4ISJgWctQ7"
      },
      "outputs": [],
      "source": [
        "import numpy as np\n",
        "import pandas as pd\n",
        "import plotly.express as px\n",
        "import plotly.graph_objects as go"
      ]
    },
    {
      "cell_type": "code",
      "source": [
        "y_true = 100 + 20 * np.random.randn(50)\n",
        "y_true"
      ],
      "metadata": {
        "colab": {
          "base_uri": "https://localhost:8080/"
        },
        "id": "VLHM7Cu7gXrb",
        "outputId": "bc3d17d5-3ed2-4900-8659-d2e46afe460f"
      },
      "execution_count": 4,
      "outputs": [
        {
          "output_type": "execute_result",
          "data": {
            "text/plain": [
              "array([ 93.95827432,  96.63923478,  83.98612065,  83.77775013,\n",
              "        88.16687714, 104.43253564, 110.60659595,  84.76130101,\n",
              "        93.34643139,  70.24643644, 109.93510992, 105.45437671,\n",
              "        84.78635188,  86.49140986, 116.09115521,  75.11834371,\n",
              "        76.01917202,  84.92021764, 113.06340612,  87.20059287,\n",
              "        81.15330673, 110.89136709, 120.42449648,  82.67821518,\n",
              "       107.22497496,  81.90294094, 111.38104193,  94.89871342,\n",
              "       129.37934759, 100.25705633, 119.12282726, 101.35464054,\n",
              "       131.77291348,  85.92089396, 113.22377507, 111.9479476 ,\n",
              "       122.17811069, 100.18258214, 117.32744895, 118.01555307,\n",
              "       104.86042189, 113.95085941, 115.39083974,  70.98349407,\n",
              "        96.04077034, 114.78722501, 100.25415709,  91.00541626,\n",
              "       108.21571303,  81.3287804 ])"
            ]
          },
          "metadata": {},
          "execution_count": 4
        }
      ]
    },
    {
      "cell_type": "code",
      "source": [
        "y_pred = y_true + 10 * np.random.randn(50)\n",
        "y_pred"
      ],
      "metadata": {
        "colab": {
          "base_uri": "https://localhost:8080/"
        },
        "id": "Oo5ztGMjseJ1",
        "outputId": "bdb91589-161c-42ce-bd3b-5bcb58b77810"
      },
      "execution_count": 5,
      "outputs": [
        {
          "output_type": "execute_result",
          "data": {
            "text/plain": [
              "array([ 93.76910275,  92.39727576,  82.29848719,  95.79894258,\n",
              "        72.1311244 , 112.96223823,  93.46336988, 103.75605404,\n",
              "        88.18394743,  84.79376705, 119.7517848 , 116.00751749,\n",
              "        66.29394542,  98.82892962, 113.81389487,  81.22939556,\n",
              "        80.12075244,  86.00224749, 119.22735001,  85.81849957,\n",
              "        82.17414433, 100.95317368, 112.79436744,  75.08707792,\n",
              "       111.89554177,  86.70532339, 124.85771598,  88.74927338,\n",
              "       120.78486539, 108.7873895 , 114.10072935,  88.79224811,\n",
              "       117.22640041,  98.5435774 , 115.9073574 , 102.00514441,\n",
              "       123.57701819, 102.47594952, 112.03591129, 121.2444636 ,\n",
              "        96.47953157, 130.11048077,  98.05105497,  63.75480492,\n",
              "       100.74113384, 111.10946716, 105.71701532, 110.77745084,\n",
              "       129.52201293,  95.02075681])"
            ]
          },
          "metadata": {},
          "execution_count": 5
        }
      ]
    },
    {
      "cell_type": "code",
      "source": [
        "results = pd.DataFrame({'y_true': y_true, 'y_pred': y_pred})\n",
        "results.head()"
      ],
      "metadata": {
        "colab": {
          "base_uri": "https://localhost:8080/",
          "height": 206
        },
        "id": "VC6nAj0utCfU",
        "outputId": "316a8a86-67d0-432e-c497-1bf1ae380add"
      },
      "execution_count": 6,
      "outputs": [
        {
          "output_type": "execute_result",
          "data": {
            "text/plain": [
              "      y_true     y_pred\n",
              "0  93.958274  93.769103\n",
              "1  96.639235  92.397276\n",
              "2  83.986121  82.298487\n",
              "3  83.777750  95.798943\n",
              "4  88.166877  72.131124"
            ],
            "text/html": [
              "\n",
              "  <div id=\"df-e46bf926-e511-41cc-aaea-3d439e90ebe2\" class=\"colab-df-container\">\n",
              "    <div>\n",
              "<style scoped>\n",
              "    .dataframe tbody tr th:only-of-type {\n",
              "        vertical-align: middle;\n",
              "    }\n",
              "\n",
              "    .dataframe tbody tr th {\n",
              "        vertical-align: top;\n",
              "    }\n",
              "\n",
              "    .dataframe thead th {\n",
              "        text-align: right;\n",
              "    }\n",
              "</style>\n",
              "<table border=\"1\" class=\"dataframe\">\n",
              "  <thead>\n",
              "    <tr style=\"text-align: right;\">\n",
              "      <th></th>\n",
              "      <th>y_true</th>\n",
              "      <th>y_pred</th>\n",
              "    </tr>\n",
              "  </thead>\n",
              "  <tbody>\n",
              "    <tr>\n",
              "      <th>0</th>\n",
              "      <td>93.958274</td>\n",
              "      <td>93.769103</td>\n",
              "    </tr>\n",
              "    <tr>\n",
              "      <th>1</th>\n",
              "      <td>96.639235</td>\n",
              "      <td>92.397276</td>\n",
              "    </tr>\n",
              "    <tr>\n",
              "      <th>2</th>\n",
              "      <td>83.986121</td>\n",
              "      <td>82.298487</td>\n",
              "    </tr>\n",
              "    <tr>\n",
              "      <th>3</th>\n",
              "      <td>83.777750</td>\n",
              "      <td>95.798943</td>\n",
              "    </tr>\n",
              "    <tr>\n",
              "      <th>4</th>\n",
              "      <td>88.166877</td>\n",
              "      <td>72.131124</td>\n",
              "    </tr>\n",
              "  </tbody>\n",
              "</table>\n",
              "</div>\n",
              "    <div class=\"colab-df-buttons\">\n",
              "\n",
              "  <div class=\"colab-df-container\">\n",
              "    <button class=\"colab-df-convert\" onclick=\"convertToInteractive('df-e46bf926-e511-41cc-aaea-3d439e90ebe2')\"\n",
              "            title=\"Convert this dataframe to an interactive table.\"\n",
              "            style=\"display:none;\">\n",
              "\n",
              "  <svg xmlns=\"http://www.w3.org/2000/svg\" height=\"24px\" viewBox=\"0 -960 960 960\">\n",
              "    <path d=\"M120-120v-720h720v720H120Zm60-500h600v-160H180v160Zm220 220h160v-160H400v160Zm0 220h160v-160H400v160ZM180-400h160v-160H180v160Zm440 0h160v-160H620v160ZM180-180h160v-160H180v160Zm440 0h160v-160H620v160Z\"/>\n",
              "  </svg>\n",
              "    </button>\n",
              "\n",
              "  <style>\n",
              "    .colab-df-container {\n",
              "      display:flex;\n",
              "      gap: 12px;\n",
              "    }\n",
              "\n",
              "    .colab-df-convert {\n",
              "      background-color: #E8F0FE;\n",
              "      border: none;\n",
              "      border-radius: 50%;\n",
              "      cursor: pointer;\n",
              "      display: none;\n",
              "      fill: #1967D2;\n",
              "      height: 32px;\n",
              "      padding: 0 0 0 0;\n",
              "      width: 32px;\n",
              "    }\n",
              "\n",
              "    .colab-df-convert:hover {\n",
              "      background-color: #E2EBFA;\n",
              "      box-shadow: 0px 1px 2px rgba(60, 64, 67, 0.3), 0px 1px 3px 1px rgba(60, 64, 67, 0.15);\n",
              "      fill: #174EA6;\n",
              "    }\n",
              "\n",
              "    .colab-df-buttons div {\n",
              "      margin-bottom: 4px;\n",
              "    }\n",
              "\n",
              "    [theme=dark] .colab-df-convert {\n",
              "      background-color: #3B4455;\n",
              "      fill: #D2E3FC;\n",
              "    }\n",
              "\n",
              "    [theme=dark] .colab-df-convert:hover {\n",
              "      background-color: #434B5C;\n",
              "      box-shadow: 0px 1px 3px 1px rgba(0, 0, 0, 0.15);\n",
              "      filter: drop-shadow(0px 1px 2px rgba(0, 0, 0, 0.3));\n",
              "      fill: #FFFFFF;\n",
              "    }\n",
              "  </style>\n",
              "\n",
              "    <script>\n",
              "      const buttonEl =\n",
              "        document.querySelector('#df-e46bf926-e511-41cc-aaea-3d439e90ebe2 button.colab-df-convert');\n",
              "      buttonEl.style.display =\n",
              "        google.colab.kernel.accessAllowed ? 'block' : 'none';\n",
              "\n",
              "      async function convertToInteractive(key) {\n",
              "        const element = document.querySelector('#df-e46bf926-e511-41cc-aaea-3d439e90ebe2');\n",
              "        const dataTable =\n",
              "          await google.colab.kernel.invokeFunction('convertToInteractive',\n",
              "                                                    [key], {});\n",
              "        if (!dataTable) return;\n",
              "\n",
              "        const docLinkHtml = 'Like what you see? Visit the ' +\n",
              "          '<a target=\"_blank\" href=https://colab.research.google.com/notebooks/data_table.ipynb>data table notebook</a>'\n",
              "          + ' to learn more about interactive tables.';\n",
              "        element.innerHTML = '';\n",
              "        dataTable['output_type'] = 'display_data';\n",
              "        await google.colab.output.renderOutput(dataTable, element);\n",
              "        const docLink = document.createElement('div');\n",
              "        docLink.innerHTML = docLinkHtml;\n",
              "        element.appendChild(docLink);\n",
              "      }\n",
              "    </script>\n",
              "  </div>\n",
              "\n",
              "\n",
              "<div id=\"df-91d06141-cc94-4529-b259-7d69bcbc82bc\">\n",
              "  <button class=\"colab-df-quickchart\" onclick=\"quickchart('df-91d06141-cc94-4529-b259-7d69bcbc82bc')\"\n",
              "            title=\"Suggest charts\"\n",
              "            style=\"display:none;\">\n",
              "\n",
              "<svg xmlns=\"http://www.w3.org/2000/svg\" height=\"24px\"viewBox=\"0 0 24 24\"\n",
              "     width=\"24px\">\n",
              "    <g>\n",
              "        <path d=\"M19 3H5c-1.1 0-2 .9-2 2v14c0 1.1.9 2 2 2h14c1.1 0 2-.9 2-2V5c0-1.1-.9-2-2-2zM9 17H7v-7h2v7zm4 0h-2V7h2v10zm4 0h-2v-4h2v4z\"/>\n",
              "    </g>\n",
              "</svg>\n",
              "  </button>\n",
              "\n",
              "<style>\n",
              "  .colab-df-quickchart {\n",
              "      --bg-color: #E8F0FE;\n",
              "      --fill-color: #1967D2;\n",
              "      --hover-bg-color: #E2EBFA;\n",
              "      --hover-fill-color: #174EA6;\n",
              "      --disabled-fill-color: #AAA;\n",
              "      --disabled-bg-color: #DDD;\n",
              "  }\n",
              "\n",
              "  [theme=dark] .colab-df-quickchart {\n",
              "      --bg-color: #3B4455;\n",
              "      --fill-color: #D2E3FC;\n",
              "      --hover-bg-color: #434B5C;\n",
              "      --hover-fill-color: #FFFFFF;\n",
              "      --disabled-bg-color: #3B4455;\n",
              "      --disabled-fill-color: #666;\n",
              "  }\n",
              "\n",
              "  .colab-df-quickchart {\n",
              "    background-color: var(--bg-color);\n",
              "    border: none;\n",
              "    border-radius: 50%;\n",
              "    cursor: pointer;\n",
              "    display: none;\n",
              "    fill: var(--fill-color);\n",
              "    height: 32px;\n",
              "    padding: 0;\n",
              "    width: 32px;\n",
              "  }\n",
              "\n",
              "  .colab-df-quickchart:hover {\n",
              "    background-color: var(--hover-bg-color);\n",
              "    box-shadow: 0 1px 2px rgba(60, 64, 67, 0.3), 0 1px 3px 1px rgba(60, 64, 67, 0.15);\n",
              "    fill: var(--button-hover-fill-color);\n",
              "  }\n",
              "\n",
              "  .colab-df-quickchart-complete:disabled,\n",
              "  .colab-df-quickchart-complete:disabled:hover {\n",
              "    background-color: var(--disabled-bg-color);\n",
              "    fill: var(--disabled-fill-color);\n",
              "    box-shadow: none;\n",
              "  }\n",
              "\n",
              "  .colab-df-spinner {\n",
              "    border: 2px solid var(--fill-color);\n",
              "    border-color: transparent;\n",
              "    border-bottom-color: var(--fill-color);\n",
              "    animation:\n",
              "      spin 1s steps(1) infinite;\n",
              "  }\n",
              "\n",
              "  @keyframes spin {\n",
              "    0% {\n",
              "      border-color: transparent;\n",
              "      border-bottom-color: var(--fill-color);\n",
              "      border-left-color: var(--fill-color);\n",
              "    }\n",
              "    20% {\n",
              "      border-color: transparent;\n",
              "      border-left-color: var(--fill-color);\n",
              "      border-top-color: var(--fill-color);\n",
              "    }\n",
              "    30% {\n",
              "      border-color: transparent;\n",
              "      border-left-color: var(--fill-color);\n",
              "      border-top-color: var(--fill-color);\n",
              "      border-right-color: var(--fill-color);\n",
              "    }\n",
              "    40% {\n",
              "      border-color: transparent;\n",
              "      border-right-color: var(--fill-color);\n",
              "      border-top-color: var(--fill-color);\n",
              "    }\n",
              "    60% {\n",
              "      border-color: transparent;\n",
              "      border-right-color: var(--fill-color);\n",
              "    }\n",
              "    80% {\n",
              "      border-color: transparent;\n",
              "      border-right-color: var(--fill-color);\n",
              "      border-bottom-color: var(--fill-color);\n",
              "    }\n",
              "    90% {\n",
              "      border-color: transparent;\n",
              "      border-bottom-color: var(--fill-color);\n",
              "    }\n",
              "  }\n",
              "</style>\n",
              "\n",
              "  <script>\n",
              "    async function quickchart(key) {\n",
              "      const quickchartButtonEl =\n",
              "        document.querySelector('#' + key + ' button');\n",
              "      quickchartButtonEl.disabled = true;  // To prevent multiple clicks.\n",
              "      quickchartButtonEl.classList.add('colab-df-spinner');\n",
              "      try {\n",
              "        const charts = await google.colab.kernel.invokeFunction(\n",
              "            'suggestCharts', [key], {});\n",
              "      } catch (error) {\n",
              "        console.error('Error during call to suggestCharts:', error);\n",
              "      }\n",
              "      quickchartButtonEl.classList.remove('colab-df-spinner');\n",
              "      quickchartButtonEl.classList.add('colab-df-quickchart-complete');\n",
              "    }\n",
              "    (() => {\n",
              "      let quickchartButtonEl =\n",
              "        document.querySelector('#df-91d06141-cc94-4529-b259-7d69bcbc82bc button');\n",
              "      quickchartButtonEl.style.display =\n",
              "        google.colab.kernel.accessAllowed ? 'block' : 'none';\n",
              "    })();\n",
              "  </script>\n",
              "</div>\n",
              "\n",
              "    </div>\n",
              "  </div>\n"
            ],
            "application/vnd.google.colaboratory.intrinsic+json": {
              "type": "dataframe",
              "variable_name": "results",
              "summary": "{\n  \"name\": \"results\",\n  \"rows\": 50,\n  \"fields\": [\n    {\n      \"column\": \"y_true\",\n      \"properties\": {\n        \"dtype\": \"number\",\n        \"std\": 15.768046683571258,\n        \"min\": 70.24643644024479,\n        \"max\": 131.77291347711068,\n        \"num_unique_values\": 50,\n        \"samples\": [\n          86.49140985968137,\n          118.01555307438502,\n          119.1228272556655\n        ],\n        \"semantic_type\": \"\",\n        \"description\": \"\"\n      }\n    },\n    {\n      \"column\": \"y_pred\",\n      \"properties\": {\n        \"dtype\": \"number\",\n        \"std\": 16.52539667417604,\n        \"min\": 63.754804919402815,\n        \"max\": 130.11048077397473,\n        \"num_unique_values\": 50,\n        \"samples\": [\n          98.82892962131714,\n          121.24446359981243,\n          114.10072934846684\n        ],\n        \"semantic_type\": \"\",\n        \"description\": \"\"\n      }\n    }\n  ]\n}"
            }
          },
          "metadata": {},
          "execution_count": 6
        }
      ]
    },
    {
      "cell_type": "code",
      "source": [
        "results['error'] = results['y_true'] - results['y_pred']\n",
        "results.head()"
      ],
      "metadata": {
        "colab": {
          "base_uri": "https://localhost:8080/",
          "height": 206
        },
        "id": "90ehm6c8tL-Z",
        "outputId": "9afeb547-a3f2-42a8-a8da-ef0bc72a633d"
      },
      "execution_count": 7,
      "outputs": [
        {
          "output_type": "execute_result",
          "data": {
            "text/plain": [
              "      y_true     y_pred      error\n",
              "0  93.958274  93.769103   0.189172\n",
              "1  96.639235  92.397276   4.241959\n",
              "2  83.986121  82.298487   1.687633\n",
              "3  83.777750  95.798943 -12.021192\n",
              "4  88.166877  72.131124  16.035753"
            ],
            "text/html": [
              "\n",
              "  <div id=\"df-fe064b88-38d5-47a6-aaac-3b77ca1adcfd\" class=\"colab-df-container\">\n",
              "    <div>\n",
              "<style scoped>\n",
              "    .dataframe tbody tr th:only-of-type {\n",
              "        vertical-align: middle;\n",
              "    }\n",
              "\n",
              "    .dataframe tbody tr th {\n",
              "        vertical-align: top;\n",
              "    }\n",
              "\n",
              "    .dataframe thead th {\n",
              "        text-align: right;\n",
              "    }\n",
              "</style>\n",
              "<table border=\"1\" class=\"dataframe\">\n",
              "  <thead>\n",
              "    <tr style=\"text-align: right;\">\n",
              "      <th></th>\n",
              "      <th>y_true</th>\n",
              "      <th>y_pred</th>\n",
              "      <th>error</th>\n",
              "    </tr>\n",
              "  </thead>\n",
              "  <tbody>\n",
              "    <tr>\n",
              "      <th>0</th>\n",
              "      <td>93.958274</td>\n",
              "      <td>93.769103</td>\n",
              "      <td>0.189172</td>\n",
              "    </tr>\n",
              "    <tr>\n",
              "      <th>1</th>\n",
              "      <td>96.639235</td>\n",
              "      <td>92.397276</td>\n",
              "      <td>4.241959</td>\n",
              "    </tr>\n",
              "    <tr>\n",
              "      <th>2</th>\n",
              "      <td>83.986121</td>\n",
              "      <td>82.298487</td>\n",
              "      <td>1.687633</td>\n",
              "    </tr>\n",
              "    <tr>\n",
              "      <th>3</th>\n",
              "      <td>83.777750</td>\n",
              "      <td>95.798943</td>\n",
              "      <td>-12.021192</td>\n",
              "    </tr>\n",
              "    <tr>\n",
              "      <th>4</th>\n",
              "      <td>88.166877</td>\n",
              "      <td>72.131124</td>\n",
              "      <td>16.035753</td>\n",
              "    </tr>\n",
              "  </tbody>\n",
              "</table>\n",
              "</div>\n",
              "    <div class=\"colab-df-buttons\">\n",
              "\n",
              "  <div class=\"colab-df-container\">\n",
              "    <button class=\"colab-df-convert\" onclick=\"convertToInteractive('df-fe064b88-38d5-47a6-aaac-3b77ca1adcfd')\"\n",
              "            title=\"Convert this dataframe to an interactive table.\"\n",
              "            style=\"display:none;\">\n",
              "\n",
              "  <svg xmlns=\"http://www.w3.org/2000/svg\" height=\"24px\" viewBox=\"0 -960 960 960\">\n",
              "    <path d=\"M120-120v-720h720v720H120Zm60-500h600v-160H180v160Zm220 220h160v-160H400v160Zm0 220h160v-160H400v160ZM180-400h160v-160H180v160Zm440 0h160v-160H620v160ZM180-180h160v-160H180v160Zm440 0h160v-160H620v160Z\"/>\n",
              "  </svg>\n",
              "    </button>\n",
              "\n",
              "  <style>\n",
              "    .colab-df-container {\n",
              "      display:flex;\n",
              "      gap: 12px;\n",
              "    }\n",
              "\n",
              "    .colab-df-convert {\n",
              "      background-color: #E8F0FE;\n",
              "      border: none;\n",
              "      border-radius: 50%;\n",
              "      cursor: pointer;\n",
              "      display: none;\n",
              "      fill: #1967D2;\n",
              "      height: 32px;\n",
              "      padding: 0 0 0 0;\n",
              "      width: 32px;\n",
              "    }\n",
              "\n",
              "    .colab-df-convert:hover {\n",
              "      background-color: #E2EBFA;\n",
              "      box-shadow: 0px 1px 2px rgba(60, 64, 67, 0.3), 0px 1px 3px 1px rgba(60, 64, 67, 0.15);\n",
              "      fill: #174EA6;\n",
              "    }\n",
              "\n",
              "    .colab-df-buttons div {\n",
              "      margin-bottom: 4px;\n",
              "    }\n",
              "\n",
              "    [theme=dark] .colab-df-convert {\n",
              "      background-color: #3B4455;\n",
              "      fill: #D2E3FC;\n",
              "    }\n",
              "\n",
              "    [theme=dark] .colab-df-convert:hover {\n",
              "      background-color: #434B5C;\n",
              "      box-shadow: 0px 1px 3px 1px rgba(0, 0, 0, 0.15);\n",
              "      filter: drop-shadow(0px 1px 2px rgba(0, 0, 0, 0.3));\n",
              "      fill: #FFFFFF;\n",
              "    }\n",
              "  </style>\n",
              "\n",
              "    <script>\n",
              "      const buttonEl =\n",
              "        document.querySelector('#df-fe064b88-38d5-47a6-aaac-3b77ca1adcfd button.colab-df-convert');\n",
              "      buttonEl.style.display =\n",
              "        google.colab.kernel.accessAllowed ? 'block' : 'none';\n",
              "\n",
              "      async function convertToInteractive(key) {\n",
              "        const element = document.querySelector('#df-fe064b88-38d5-47a6-aaac-3b77ca1adcfd');\n",
              "        const dataTable =\n",
              "          await google.colab.kernel.invokeFunction('convertToInteractive',\n",
              "                                                    [key], {});\n",
              "        if (!dataTable) return;\n",
              "\n",
              "        const docLinkHtml = 'Like what you see? Visit the ' +\n",
              "          '<a target=\"_blank\" href=https://colab.research.google.com/notebooks/data_table.ipynb>data table notebook</a>'\n",
              "          + ' to learn more about interactive tables.';\n",
              "        element.innerHTML = '';\n",
              "        dataTable['output_type'] = 'display_data';\n",
              "        await google.colab.output.renderOutput(dataTable, element);\n",
              "        const docLink = document.createElement('div');\n",
              "        docLink.innerHTML = docLinkHtml;\n",
              "        element.appendChild(docLink);\n",
              "      }\n",
              "    </script>\n",
              "  </div>\n",
              "\n",
              "\n",
              "<div id=\"df-f86a0656-bdaa-4184-bb62-00bc9fcda568\">\n",
              "  <button class=\"colab-df-quickchart\" onclick=\"quickchart('df-f86a0656-bdaa-4184-bb62-00bc9fcda568')\"\n",
              "            title=\"Suggest charts\"\n",
              "            style=\"display:none;\">\n",
              "\n",
              "<svg xmlns=\"http://www.w3.org/2000/svg\" height=\"24px\"viewBox=\"0 0 24 24\"\n",
              "     width=\"24px\">\n",
              "    <g>\n",
              "        <path d=\"M19 3H5c-1.1 0-2 .9-2 2v14c0 1.1.9 2 2 2h14c1.1 0 2-.9 2-2V5c0-1.1-.9-2-2-2zM9 17H7v-7h2v7zm4 0h-2V7h2v10zm4 0h-2v-4h2v4z\"/>\n",
              "    </g>\n",
              "</svg>\n",
              "  </button>\n",
              "\n",
              "<style>\n",
              "  .colab-df-quickchart {\n",
              "      --bg-color: #E8F0FE;\n",
              "      --fill-color: #1967D2;\n",
              "      --hover-bg-color: #E2EBFA;\n",
              "      --hover-fill-color: #174EA6;\n",
              "      --disabled-fill-color: #AAA;\n",
              "      --disabled-bg-color: #DDD;\n",
              "  }\n",
              "\n",
              "  [theme=dark] .colab-df-quickchart {\n",
              "      --bg-color: #3B4455;\n",
              "      --fill-color: #D2E3FC;\n",
              "      --hover-bg-color: #434B5C;\n",
              "      --hover-fill-color: #FFFFFF;\n",
              "      --disabled-bg-color: #3B4455;\n",
              "      --disabled-fill-color: #666;\n",
              "  }\n",
              "\n",
              "  .colab-df-quickchart {\n",
              "    background-color: var(--bg-color);\n",
              "    border: none;\n",
              "    border-radius: 50%;\n",
              "    cursor: pointer;\n",
              "    display: none;\n",
              "    fill: var(--fill-color);\n",
              "    height: 32px;\n",
              "    padding: 0;\n",
              "    width: 32px;\n",
              "  }\n",
              "\n",
              "  .colab-df-quickchart:hover {\n",
              "    background-color: var(--hover-bg-color);\n",
              "    box-shadow: 0 1px 2px rgba(60, 64, 67, 0.3), 0 1px 3px 1px rgba(60, 64, 67, 0.15);\n",
              "    fill: var(--button-hover-fill-color);\n",
              "  }\n",
              "\n",
              "  .colab-df-quickchart-complete:disabled,\n",
              "  .colab-df-quickchart-complete:disabled:hover {\n",
              "    background-color: var(--disabled-bg-color);\n",
              "    fill: var(--disabled-fill-color);\n",
              "    box-shadow: none;\n",
              "  }\n",
              "\n",
              "  .colab-df-spinner {\n",
              "    border: 2px solid var(--fill-color);\n",
              "    border-color: transparent;\n",
              "    border-bottom-color: var(--fill-color);\n",
              "    animation:\n",
              "      spin 1s steps(1) infinite;\n",
              "  }\n",
              "\n",
              "  @keyframes spin {\n",
              "    0% {\n",
              "      border-color: transparent;\n",
              "      border-bottom-color: var(--fill-color);\n",
              "      border-left-color: var(--fill-color);\n",
              "    }\n",
              "    20% {\n",
              "      border-color: transparent;\n",
              "      border-left-color: var(--fill-color);\n",
              "      border-top-color: var(--fill-color);\n",
              "    }\n",
              "    30% {\n",
              "      border-color: transparent;\n",
              "      border-left-color: var(--fill-color);\n",
              "      border-top-color: var(--fill-color);\n",
              "      border-right-color: var(--fill-color);\n",
              "    }\n",
              "    40% {\n",
              "      border-color: transparent;\n",
              "      border-right-color: var(--fill-color);\n",
              "      border-top-color: var(--fill-color);\n",
              "    }\n",
              "    60% {\n",
              "      border-color: transparent;\n",
              "      border-right-color: var(--fill-color);\n",
              "    }\n",
              "    80% {\n",
              "      border-color: transparent;\n",
              "      border-right-color: var(--fill-color);\n",
              "      border-bottom-color: var(--fill-color);\n",
              "    }\n",
              "    90% {\n",
              "      border-color: transparent;\n",
              "      border-bottom-color: var(--fill-color);\n",
              "    }\n",
              "  }\n",
              "</style>\n",
              "\n",
              "  <script>\n",
              "    async function quickchart(key) {\n",
              "      const quickchartButtonEl =\n",
              "        document.querySelector('#' + key + ' button');\n",
              "      quickchartButtonEl.disabled = true;  // To prevent multiple clicks.\n",
              "      quickchartButtonEl.classList.add('colab-df-spinner');\n",
              "      try {\n",
              "        const charts = await google.colab.kernel.invokeFunction(\n",
              "            'suggestCharts', [key], {});\n",
              "      } catch (error) {\n",
              "        console.error('Error during call to suggestCharts:', error);\n",
              "      }\n",
              "      quickchartButtonEl.classList.remove('colab-df-spinner');\n",
              "      quickchartButtonEl.classList.add('colab-df-quickchart-complete');\n",
              "    }\n",
              "    (() => {\n",
              "      let quickchartButtonEl =\n",
              "        document.querySelector('#df-f86a0656-bdaa-4184-bb62-00bc9fcda568 button');\n",
              "      quickchartButtonEl.style.display =\n",
              "        google.colab.kernel.accessAllowed ? 'block' : 'none';\n",
              "    })();\n",
              "  </script>\n",
              "</div>\n",
              "\n",
              "    </div>\n",
              "  </div>\n"
            ],
            "application/vnd.google.colaboratory.intrinsic+json": {
              "type": "dataframe",
              "variable_name": "results",
              "summary": "{\n  \"name\": \"results\",\n  \"rows\": 50,\n  \"fields\": [\n    {\n      \"column\": \"y_true\",\n      \"properties\": {\n        \"dtype\": \"number\",\n        \"std\": 15.768046683571258,\n        \"min\": 70.24643644024479,\n        \"max\": 131.77291347711068,\n        \"num_unique_values\": 50,\n        \"samples\": [\n          86.49140985968137,\n          118.01555307438502,\n          119.1228272556655\n        ],\n        \"semantic_type\": \"\",\n        \"description\": \"\"\n      }\n    },\n    {\n      \"column\": \"y_pred\",\n      \"properties\": {\n        \"dtype\": \"number\",\n        \"std\": 16.52539667417604,\n        \"min\": 63.754804919402815,\n        \"max\": 130.11048077397473,\n        \"num_unique_values\": 50,\n        \"samples\": [\n          98.82892962131714,\n          121.24446359981243,\n          114.10072934846684\n        ],\n        \"semantic_type\": \"\",\n        \"description\": \"\"\n      }\n    },\n    {\n      \"column\": \"error\",\n      \"properties\": {\n        \"dtype\": \"number\",\n        \"std\": 10.356743942312889,\n        \"min\": -21.306299897921434,\n        \"max\": 18.492406455308682,\n        \"num_unique_values\": 50,\n        \"samples\": [\n          -12.337519761635775,\n          -3.228910525427409,\n          5.022097907198656\n        ],\n        \"semantic_type\": \"\",\n        \"description\": \"\"\n      }\n    }\n  ]\n}"
            }
          },
          "metadata": {},
          "execution_count": 7
        }
      ]
    },
    {
      "cell_type": "markdown",
      "source": [
        "### <a name='a2'></a> Interpretacja graficzna"
      ],
      "metadata": {
        "id": "ZxDj17MYgi_r"
      }
    },
    {
      "cell_type": "code",
      "source": [
        "def plot_regression(y_true, y_pred):\n",
        "  results = pd.DataFrame({'y_true': y_true, 'y_pred': y_pred})\n",
        "  min = results[['y_true', 'y_pred']].min().min()\n",
        "  max = results[['y_true', 'y_pred']].max().max()\n",
        "\n",
        "  fig = go.Figure(data=[go.Scatter(x=results['y_true'], y=results['y_pred'], mode='markers'),\n",
        "                        go.Scatter(x=[min, max], y=[min, max])],\n",
        "                  layout=go.Layout(showlegend=False, width=800, height=500,\n",
        "                                   xaxis_title='y_true',\n",
        "                                   yaxis_title='y_pred',\n",
        "                                   title='Regression results'))\n",
        "  fig.show()\n",
        "plot_regression(y_true, y_pred)"
      ],
      "metadata": {
        "colab": {
          "base_uri": "https://localhost:8080/",
          "height": 517
        },
        "id": "BuONu9_ogp7M",
        "outputId": "a805a457-e677-4198-e8b6-e1741a1012ec"
      },
      "execution_count": 8,
      "outputs": [
        {
          "output_type": "display_data",
          "data": {
            "text/html": [
              "<html>\n",
              "<head><meta charset=\"utf-8\" /></head>\n",
              "<body>\n",
              "    <div>            <script src=\"https://cdnjs.cloudflare.com/ajax/libs/mathjax/2.7.5/MathJax.js?config=TeX-AMS-MML_SVG\"></script><script type=\"text/javascript\">if (window.MathJax && window.MathJax.Hub && window.MathJax.Hub.Config) {window.MathJax.Hub.Config({SVG: {font: \"STIX-Web\"}});}</script>                <script type=\"text/javascript\">window.PlotlyConfig = {MathJaxConfig: 'local'};</script>\n",
              "        <script charset=\"utf-8\" src=\"https://cdn.plot.ly/plotly-2.35.2.min.js\"></script>                <div id=\"314bfbb9-1f11-421f-a211-84d99b1fc977\" class=\"plotly-graph-div\" style=\"height:500px; width:800px;\"></div>            <script type=\"text/javascript\">                                    window.PLOTLYENV=window.PLOTLYENV || {};                                    if (document.getElementById(\"314bfbb9-1f11-421f-a211-84d99b1fc977\")) {                    Plotly.newPlot(                        \"314bfbb9-1f11-421f-a211-84d99b1fc977\",                        [{\"mode\":\"markers\",\"x\":[93.95827431605453,96.63923478377122,83.98612065069707,83.77775012803134,88.1668771353408,104.43253563509857,110.60659595381279,84.76130100579469,93.34643139400981,70.24643644024479,109.93510992296076,105.45437670620828,84.78635187671217,86.49140985968137,116.09115520689153,75.11834371012735,76.01917201584399,84.92021763850792,113.06340611976067,87.2005928737748,81.15330672700019,110.89136709113515,120.42449647647229,82.67821518210724,107.2249749600318,81.90294093502759,111.38104192971242,94.89871342270445,129.37934758947995,100.25705633352693,119.1228272556655,101.35464053569173,131.77291347711068,85.92089395688097,113.22377507243394,111.94794759681177,122.17811069343838,100.18258213952286,117.32744894716507,118.01555307438502,104.86042188801048,113.95085941436844,115.3908397446632,70.98349406629863,96.0407703388068,114.78722501252071,100.25415709308557,91.00541626289741,108.21571303481639,81.32878040047441],\"y\":[93.76910275093695,92.39727575584796,82.29848719087066,95.79894258050403,72.13112439678908,112.96223822620317,93.46336988204291,103.7560540357071,88.18394742719721,84.79376704882083,119.75178479551136,116.00751749314576,66.29394542140349,98.82892962131714,113.81389487303503,81.22939555587404,80.12075244453713,86.00224749324309,119.22735001159074,85.81849956959044,82.1741443340087,100.95317368444668,112.79436744034514,75.08707791500669,111.89554176829714,86.70532339231471,124.85771597727575,88.74927338232385,120.78486538507826,108.78738950093262,114.10072934846684,88.79224811079906,117.22640041164252,98.5435773991095,115.90735739949594,102.00514441475332,123.5770181934041,102.4759495180089,112.03591128605449,121.24446359981243,96.4795315672173,130.11048077397473,98.05105497125979,63.754804919402815,100.7411338447121,111.10946715613647,105.71701532156482,110.77745083653811,129.52201293273782,95.02075680959088],\"type\":\"scatter\"},{\"x\":[63.754804919402815,131.77291347711068],\"y\":[63.754804919402815,131.77291347711068],\"type\":\"scatter\"}],                        {\"height\":500,\"showlegend\":false,\"title\":{\"text\":\"Regression results\"},\"width\":800,\"xaxis\":{\"title\":{\"text\":\"y_true\"}},\"yaxis\":{\"title\":{\"text\":\"y_pred\"}},\"template\":{\"data\":{\"histogram2dcontour\":[{\"type\":\"histogram2dcontour\",\"colorbar\":{\"outlinewidth\":0,\"ticks\":\"\"},\"colorscale\":[[0.0,\"#0d0887\"],[0.1111111111111111,\"#46039f\"],[0.2222222222222222,\"#7201a8\"],[0.3333333333333333,\"#9c179e\"],[0.4444444444444444,\"#bd3786\"],[0.5555555555555556,\"#d8576b\"],[0.6666666666666666,\"#ed7953\"],[0.7777777777777778,\"#fb9f3a\"],[0.8888888888888888,\"#fdca26\"],[1.0,\"#f0f921\"]]}],\"choropleth\":[{\"type\":\"choropleth\",\"colorbar\":{\"outlinewidth\":0,\"ticks\":\"\"}}],\"histogram2d\":[{\"type\":\"histogram2d\",\"colorbar\":{\"outlinewidth\":0,\"ticks\":\"\"},\"colorscale\":[[0.0,\"#0d0887\"],[0.1111111111111111,\"#46039f\"],[0.2222222222222222,\"#7201a8\"],[0.3333333333333333,\"#9c179e\"],[0.4444444444444444,\"#bd3786\"],[0.5555555555555556,\"#d8576b\"],[0.6666666666666666,\"#ed7953\"],[0.7777777777777778,\"#fb9f3a\"],[0.8888888888888888,\"#fdca26\"],[1.0,\"#f0f921\"]]}],\"heatmap\":[{\"type\":\"heatmap\",\"colorbar\":{\"outlinewidth\":0,\"ticks\":\"\"},\"colorscale\":[[0.0,\"#0d0887\"],[0.1111111111111111,\"#46039f\"],[0.2222222222222222,\"#7201a8\"],[0.3333333333333333,\"#9c179e\"],[0.4444444444444444,\"#bd3786\"],[0.5555555555555556,\"#d8576b\"],[0.6666666666666666,\"#ed7953\"],[0.7777777777777778,\"#fb9f3a\"],[0.8888888888888888,\"#fdca26\"],[1.0,\"#f0f921\"]]}],\"heatmapgl\":[{\"type\":\"heatmapgl\",\"colorbar\":{\"outlinewidth\":0,\"ticks\":\"\"},\"colorscale\":[[0.0,\"#0d0887\"],[0.1111111111111111,\"#46039f\"],[0.2222222222222222,\"#7201a8\"],[0.3333333333333333,\"#9c179e\"],[0.4444444444444444,\"#bd3786\"],[0.5555555555555556,\"#d8576b\"],[0.6666666666666666,\"#ed7953\"],[0.7777777777777778,\"#fb9f3a\"],[0.8888888888888888,\"#fdca26\"],[1.0,\"#f0f921\"]]}],\"contourcarpet\":[{\"type\":\"contourcarpet\",\"colorbar\":{\"outlinewidth\":0,\"ticks\":\"\"}}],\"contour\":[{\"type\":\"contour\",\"colorbar\":{\"outlinewidth\":0,\"ticks\":\"\"},\"colorscale\":[[0.0,\"#0d0887\"],[0.1111111111111111,\"#46039f\"],[0.2222222222222222,\"#7201a8\"],[0.3333333333333333,\"#9c179e\"],[0.4444444444444444,\"#bd3786\"],[0.5555555555555556,\"#d8576b\"],[0.6666666666666666,\"#ed7953\"],[0.7777777777777778,\"#fb9f3a\"],[0.8888888888888888,\"#fdca26\"],[1.0,\"#f0f921\"]]}],\"surface\":[{\"type\":\"surface\",\"colorbar\":{\"outlinewidth\":0,\"ticks\":\"\"},\"colorscale\":[[0.0,\"#0d0887\"],[0.1111111111111111,\"#46039f\"],[0.2222222222222222,\"#7201a8\"],[0.3333333333333333,\"#9c179e\"],[0.4444444444444444,\"#bd3786\"],[0.5555555555555556,\"#d8576b\"],[0.6666666666666666,\"#ed7953\"],[0.7777777777777778,\"#fb9f3a\"],[0.8888888888888888,\"#fdca26\"],[1.0,\"#f0f921\"]]}],\"mesh3d\":[{\"type\":\"mesh3d\",\"colorbar\":{\"outlinewidth\":0,\"ticks\":\"\"}}],\"scatter\":[{\"fillpattern\":{\"fillmode\":\"overlay\",\"size\":10,\"solidity\":0.2},\"type\":\"scatter\"}],\"parcoords\":[{\"type\":\"parcoords\",\"line\":{\"colorbar\":{\"outlinewidth\":0,\"ticks\":\"\"}}}],\"scatterpolargl\":[{\"type\":\"scatterpolargl\",\"marker\":{\"colorbar\":{\"outlinewidth\":0,\"ticks\":\"\"}}}],\"bar\":[{\"error_x\":{\"color\":\"#2a3f5f\"},\"error_y\":{\"color\":\"#2a3f5f\"},\"marker\":{\"line\":{\"color\":\"#E5ECF6\",\"width\":0.5},\"pattern\":{\"fillmode\":\"overlay\",\"size\":10,\"solidity\":0.2}},\"type\":\"bar\"}],\"scattergeo\":[{\"type\":\"scattergeo\",\"marker\":{\"colorbar\":{\"outlinewidth\":0,\"ticks\":\"\"}}}],\"scatterpolar\":[{\"type\":\"scatterpolar\",\"marker\":{\"colorbar\":{\"outlinewidth\":0,\"ticks\":\"\"}}}],\"histogram\":[{\"marker\":{\"pattern\":{\"fillmode\":\"overlay\",\"size\":10,\"solidity\":0.2}},\"type\":\"histogram\"}],\"scattergl\":[{\"type\":\"scattergl\",\"marker\":{\"colorbar\":{\"outlinewidth\":0,\"ticks\":\"\"}}}],\"scatter3d\":[{\"type\":\"scatter3d\",\"line\":{\"colorbar\":{\"outlinewidth\":0,\"ticks\":\"\"}},\"marker\":{\"colorbar\":{\"outlinewidth\":0,\"ticks\":\"\"}}}],\"scattermapbox\":[{\"type\":\"scattermapbox\",\"marker\":{\"colorbar\":{\"outlinewidth\":0,\"ticks\":\"\"}}}],\"scatterternary\":[{\"type\":\"scatterternary\",\"marker\":{\"colorbar\":{\"outlinewidth\":0,\"ticks\":\"\"}}}],\"scattercarpet\":[{\"type\":\"scattercarpet\",\"marker\":{\"colorbar\":{\"outlinewidth\":0,\"ticks\":\"\"}}}],\"carpet\":[{\"aaxis\":{\"endlinecolor\":\"#2a3f5f\",\"gridcolor\":\"white\",\"linecolor\":\"white\",\"minorgridcolor\":\"white\",\"startlinecolor\":\"#2a3f5f\"},\"baxis\":{\"endlinecolor\":\"#2a3f5f\",\"gridcolor\":\"white\",\"linecolor\":\"white\",\"minorgridcolor\":\"white\",\"startlinecolor\":\"#2a3f5f\"},\"type\":\"carpet\"}],\"table\":[{\"cells\":{\"fill\":{\"color\":\"#EBF0F8\"},\"line\":{\"color\":\"white\"}},\"header\":{\"fill\":{\"color\":\"#C8D4E3\"},\"line\":{\"color\":\"white\"}},\"type\":\"table\"}],\"barpolar\":[{\"marker\":{\"line\":{\"color\":\"#E5ECF6\",\"width\":0.5},\"pattern\":{\"fillmode\":\"overlay\",\"size\":10,\"solidity\":0.2}},\"type\":\"barpolar\"}],\"pie\":[{\"automargin\":true,\"type\":\"pie\"}]},\"layout\":{\"autotypenumbers\":\"strict\",\"colorway\":[\"#636efa\",\"#EF553B\",\"#00cc96\",\"#ab63fa\",\"#FFA15A\",\"#19d3f3\",\"#FF6692\",\"#B6E880\",\"#FF97FF\",\"#FECB52\"],\"font\":{\"color\":\"#2a3f5f\"},\"hovermode\":\"closest\",\"hoverlabel\":{\"align\":\"left\"},\"paper_bgcolor\":\"white\",\"plot_bgcolor\":\"#E5ECF6\",\"polar\":{\"bgcolor\":\"#E5ECF6\",\"angularaxis\":{\"gridcolor\":\"white\",\"linecolor\":\"white\",\"ticks\":\"\"},\"radialaxis\":{\"gridcolor\":\"white\",\"linecolor\":\"white\",\"ticks\":\"\"}},\"ternary\":{\"bgcolor\":\"#E5ECF6\",\"aaxis\":{\"gridcolor\":\"white\",\"linecolor\":\"white\",\"ticks\":\"\"},\"baxis\":{\"gridcolor\":\"white\",\"linecolor\":\"white\",\"ticks\":\"\"},\"caxis\":{\"gridcolor\":\"white\",\"linecolor\":\"white\",\"ticks\":\"\"}},\"coloraxis\":{\"colorbar\":{\"outlinewidth\":0,\"ticks\":\"\"}},\"colorscale\":{\"sequential\":[[0.0,\"#0d0887\"],[0.1111111111111111,\"#46039f\"],[0.2222222222222222,\"#7201a8\"],[0.3333333333333333,\"#9c179e\"],[0.4444444444444444,\"#bd3786\"],[0.5555555555555556,\"#d8576b\"],[0.6666666666666666,\"#ed7953\"],[0.7777777777777778,\"#fb9f3a\"],[0.8888888888888888,\"#fdca26\"],[1.0,\"#f0f921\"]],\"sequentialminus\":[[0.0,\"#0d0887\"],[0.1111111111111111,\"#46039f\"],[0.2222222222222222,\"#7201a8\"],[0.3333333333333333,\"#9c179e\"],[0.4444444444444444,\"#bd3786\"],[0.5555555555555556,\"#d8576b\"],[0.6666666666666666,\"#ed7953\"],[0.7777777777777778,\"#fb9f3a\"],[0.8888888888888888,\"#fdca26\"],[1.0,\"#f0f921\"]],\"diverging\":[[0,\"#8e0152\"],[0.1,\"#c51b7d\"],[0.2,\"#de77ae\"],[0.3,\"#f1b6da\"],[0.4,\"#fde0ef\"],[0.5,\"#f7f7f7\"],[0.6,\"#e6f5d0\"],[0.7,\"#b8e186\"],[0.8,\"#7fbc41\"],[0.9,\"#4d9221\"],[1,\"#276419\"]]},\"xaxis\":{\"gridcolor\":\"white\",\"linecolor\":\"white\",\"ticks\":\"\",\"title\":{\"standoff\":15},\"zerolinecolor\":\"white\",\"automargin\":true,\"zerolinewidth\":2},\"yaxis\":{\"gridcolor\":\"white\",\"linecolor\":\"white\",\"ticks\":\"\",\"title\":{\"standoff\":15},\"zerolinecolor\":\"white\",\"automargin\":true,\"zerolinewidth\":2},\"scene\":{\"xaxis\":{\"backgroundcolor\":\"#E5ECF6\",\"gridcolor\":\"white\",\"linecolor\":\"white\",\"showbackground\":true,\"ticks\":\"\",\"zerolinecolor\":\"white\",\"gridwidth\":2},\"yaxis\":{\"backgroundcolor\":\"#E5ECF6\",\"gridcolor\":\"white\",\"linecolor\":\"white\",\"showbackground\":true,\"ticks\":\"\",\"zerolinecolor\":\"white\",\"gridwidth\":2},\"zaxis\":{\"backgroundcolor\":\"#E5ECF6\",\"gridcolor\":\"white\",\"linecolor\":\"white\",\"showbackground\":true,\"ticks\":\"\",\"zerolinecolor\":\"white\",\"gridwidth\":2}},\"shapedefaults\":{\"line\":{\"color\":\"#2a3f5f\"}},\"annotationdefaults\":{\"arrowcolor\":\"#2a3f5f\",\"arrowhead\":0,\"arrowwidth\":1},\"geo\":{\"bgcolor\":\"white\",\"landcolor\":\"#E5ECF6\",\"subunitcolor\":\"white\",\"showland\":true,\"showlakes\":true,\"lakecolor\":\"white\"},\"title\":{\"x\":0.05},\"mapbox\":{\"style\":\"light\"}}}},                        {\"responsive\": true}                    ).then(function(){\n",
              "                            \n",
              "var gd = document.getElementById('314bfbb9-1f11-421f-a211-84d99b1fc977');\n",
              "var x = new MutationObserver(function (mutations, observer) {{\n",
              "        var display = window.getComputedStyle(gd).display;\n",
              "        if (!display || display === 'none') {{\n",
              "            console.log([gd, 'removed!']);\n",
              "            Plotly.purge(gd);\n",
              "            observer.disconnect();\n",
              "        }}\n",
              "}});\n",
              "\n",
              "// Listen for the removal of the full notebook cells\n",
              "var notebookContainer = gd.closest('#notebook-container');\n",
              "if (notebookContainer) {{\n",
              "    x.observe(notebookContainer, {childList: true});\n",
              "}}\n",
              "\n",
              "// Listen for the clearing of the current output cell\n",
              "var outputEl = gd.closest('.output');\n",
              "if (outputEl) {{\n",
              "    x.observe(outputEl, {childList: true});\n",
              "}}\n",
              "\n",
              "                        })                };                            </script>        </div>\n",
              "</body>\n",
              "</html>"
            ]
          },
          "metadata": {}
        }
      ]
    },
    {
      "cell_type": "code",
      "source": [
        "y_true = 100 + 20 * np.random.randn(1000)\n",
        "y_pred = y_true + 10 * np.random.randn(1000)\n",
        "results = pd.DataFrame({'y_true': y_true, 'y_pred': y_pred})\n",
        "results['error'] = results['y_true'] - results['y_pred']\n",
        "\n",
        "px.histogram(results, x='error', nbins = 50, width = 800)"
      ],
      "metadata": {
        "colab": {
          "base_uri": "https://localhost:8080/",
          "height": 542
        },
        "id": "2bzwntFwh-N7",
        "outputId": "66683072-3e99-458b-fdee-2afcaf1bbf47"
      },
      "execution_count": 9,
      "outputs": [
        {
          "output_type": "display_data",
          "data": {
            "text/html": [
              "<html>\n",
              "<head><meta charset=\"utf-8\" /></head>\n",
              "<body>\n",
              "    <div>            <script src=\"https://cdnjs.cloudflare.com/ajax/libs/mathjax/2.7.5/MathJax.js?config=TeX-AMS-MML_SVG\"></script><script type=\"text/javascript\">if (window.MathJax && window.MathJax.Hub && window.MathJax.Hub.Config) {window.MathJax.Hub.Config({SVG: {font: \"STIX-Web\"}});}</script>                <script type=\"text/javascript\">window.PlotlyConfig = {MathJaxConfig: 'local'};</script>\n",
              "        <script charset=\"utf-8\" src=\"https://cdn.plot.ly/plotly-2.35.2.min.js\"></script>                <div id=\"bf9ad57f-6aea-4e3f-bd56-5c5cc84929c4\" class=\"plotly-graph-div\" style=\"height:525px; width:800px;\"></div>            <script type=\"text/javascript\">                                    window.PLOTLYENV=window.PLOTLYENV || {};                                    if (document.getElementById(\"bf9ad57f-6aea-4e3f-bd56-5c5cc84929c4\")) {                    Plotly.newPlot(                        \"bf9ad57f-6aea-4e3f-bd56-5c5cc84929c4\",                        [{\"alignmentgroup\":\"True\",\"bingroup\":\"x\",\"hovertemplate\":\"error=%{x}\\u003cbr\\u003ecount=%{y}\\u003cextra\\u003e\\u003c\\u002fextra\\u003e\",\"legendgroup\":\"\",\"marker\":{\"color\":\"#636efa\",\"pattern\":{\"shape\":\"\"}},\"name\":\"\",\"nbinsx\":50,\"offsetgroup\":\"\",\"orientation\":\"v\",\"showlegend\":false,\"x\":[-5.03037291166828,1.695555032524453,25.060219276523668,13.527457751797229,-11.998930504428401,2.431685257000069,5.423477991876396,4.557240595986514,7.084707769808787,6.040722618886903,-3.995760805564032,-12.470159904299209,-9.39841454851718,10.108667926266179,4.958639819464651,-6.842689036094086,-18.136798090363172,19.16639178467136,-11.7916104424622,-10.445675780887669,8.386213304497929,8.795428546582372,-5.1660760097947644,-7.382941270980552,-9.113202023493628,-3.552320497642185,-4.756138979170231,-11.990893748951635,-12.531864463402044,2.8651840608980876,7.371553426879871,-10.026771849505607,0.49468283666655566,8.574101688443974,-3.068017526429202,-8.469623089822989,-7.956769042019147,-11.130894670644821,-4.71203778423822,-0.9537171196780463,16.77967523282757,-10.62109536057715,6.596459433556561,-1.4937293668133975,0.04870270180926184,6.434682530155001,7.441818167857093,10.087581828364023,12.878887160954761,9.616562698963662,0.7892736226257853,6.1954890157765306,6.353501510576365,6.9826082281790605,-8.937581243136975,-4.2570018909677145,4.298028851509784,6.063544409113973,12.142847330230481,-6.844585920781043,-17.962738838082714,-4.650329867166818,5.018904075467702,21.966920389390722,1.0046910172825818,4.4753547102155835,19.469976136567325,11.573057218902875,2.402148088408495,-7.571725063271771,1.5875923948222805,-0.7066824761045467,7.668528070870536,-7.332581652411292,-8.629182369641995,18.815628676490178,6.546310009333226,9.800822415181528,8.645613590381927,7.794841418493974,2.9179131159168037,-1.4636376818790922,4.71691590153678,8.174005133459275,-5.029418179507118,-12.73599089603573,-7.689803697864221,-26.543418449433375,-2.4360530808587555,15.176863722544823,-2.0358687741871364,6.844984035977291,1.3227364382328375,3.3927773807058372,-2.1054786955479017,-7.99765992004437,-5.5486525865059235,10.143585577214878,-8.903656733492468,-11.675404273303215,-3.471010933493332,-4.061465418887238,19.001072925439175,-2.20672819778801,5.764990586660758,-8.778311509732063,-13.057199464631111,1.2948106498706835,-12.44273056632511,-4.285265479846117,13.198837364286206,11.686658600628746,5.423586324135314,-3.1448882008642016,-6.814129603564787,25.04669035790741,14.904225328738264,-9.05939993143393,4.4364979926106685,10.027381127262046,-20.784432720522133,2.5655246662031175,-15.002035698826163,-15.398596214317976,5.799496650566681,9.862046108240222,-18.99776258474607,-2.7632714973859436,3.185002740468022,-4.7296069952964785,-2.8551177200417044,-2.9488799862523933,2.37386951994975,-2.4943055654930504,9.22362022206579,2.63419181129008,7.514320037568268,-4.98291273319316,4.502485916028718,14.374550501740288,2.0672077910413407,-8.685340425756948,5.926503275915628,12.908899589001884,-1.256171194575515,11.169128512249372,7.791743747410749,6.50159712271892,7.84695391268275,10.286452897665583,-3.222674453780783,-10.207690650027857,-23.829316553436698,-6.559991951862699,-1.167770467766175,11.360887332541566,17.17598376646417,20.45015599791779,14.836994407200308,8.159441749633842,-11.21610599438793,-11.75974232096722,0.43072499863276903,17.714300729782863,10.360769694406656,-5.2316557230874565,6.809618011335843,-0.2172135324573219,-4.185691797268504,2.2033504894227036,5.353686018722755,2.095376321845521,0.5706812757544952,19.618771842744252,12.957435192744796,1.5014040464329241,13.996323084908354,16.99335746787,1.063353854984527,3.37968909257458,-2.777829663062647,-12.070387201702601,-9.42515763209235,-0.10583240115471426,-17.962699148216686,3.11452374666473,-0.1276567769192951,-19.169551721872892,-8.526197808258786,-5.744602884189035,2.820497175075829,-5.898503905993522,-13.525796669389841,15.68381450420081,9.04754959237863,6.740381088159467,-9.969273619224637,4.716328790676371,-9.650253376039913,-3.5551411290948494,-8.288175616774339,3.186985533054468,6.899800696454207,3.1590794037406056,1.5397133716325868,2.771922674829341,-4.728210315065084,-4.096957736142983,10.267648082351172,-4.132248772666685,-3.251383480116445,-18.023563440007067,2.5520513341275404,-2.2911285814632265,8.753704104838292,7.404391574201114,-7.350066873790965,11.57054079600951,23.381019929266515,12.96529596531856,4.069231565649218,-2.3553475797408083,6.803462921855285,-10.62441609670276,2.062844953616633,-9.383525648034507,-1.667618315926461,2.9856842249578364,-4.776937197914037,-1.3342754739475566,-9.313806188837788,1.0149208579641424,-4.808171405910159,11.033272285317508,-5.479198024171481,-3.705706966197994,-3.5079310513384314,15.106818173844559,2.2764425920464078,2.979709077665902,3.650733120073454,0.13555596777084133,-9.377302775785296,-2.7796588941280334,-4.208802377877944,17.24143268550803,-9.001243287444026,16.8422493517906,-8.196437108496582,30.108420960067136,-23.76157910073792,-9.432126316448887,2.203916032311227,-3.2582375407124005,0.8131444701061525,-19.27829842137072,-21.663081378605824,-10.745038628425732,24.24624383553204,4.810018600033757,1.122239569659726,-4.525399434061441,10.565991241571183,-8.148935224955451,17.271511962154875,-12.260983456143435,-5.104713493434204,7.9599364216749535,-8.217321284188955,-3.1826093768437573,-9.289581195132754,19.490532571413418,-3.141862170509782,-22.409401800921955,7.428769600402234,-6.0115687159169795,-7.955996854457041,5.876434477837435,12.454408735604176,11.067667625703194,4.240951417382718,4.556283169681365,8.665285807396558,23.890309832339653,-12.884362163174899,-9.794000059725647,-3.697623981087517,9.037246624972227,-6.025358549198415,14.228329042991419,2.0877219876091146,24.542286968472368,-13.319192103948595,-20.59489646633655,7.025054790208841,-4.500166084113943,6.182780503382105,4.934823176798631,6.1821354586121515,-8.353705294190846,-1.993222640469213,11.12785825176887,-12.24254054752734,-20.627183960026116,0.5970446763254245,12.43206796512193,4.641359818985421,12.810339959528193,6.185120822207452,15.601396019389995,3.0213560343886314,2.76567897740118,-12.613690425315184,20.092343163664452,-19.108097819661495,0.9813080981746225,12.339328460400111,-3.291080540531908,-13.739811644256918,1.8215984946517665,20.25753171746524,-25.685287613788688,-12.247565842701434,9.60863306924118,-0.7821563047598374,-13.704665752473687,-7.993296998537922,-7.948989798224844,-0.3858553431210936,-12.322116721328072,10.226085602305332,-9.889624732582377,-12.485703784465741,-10.082313608649002,2.6399614953964914,4.537978068859317,-2.2708510618385844,-9.129745505059049,-8.204318906702952,-5.168016777933687,-22.34583603076925,-8.200513070485371,3.6887289190668895,2.965347956382672,-13.921962496203918,-12.080469861955095,-20.237435257686656,5.885653223959949,3.040302500114933,-17.924626219848818,17.042340958244807,0.10475097232847475,-9.945367062334306,-4.691204701853962,7.612128902198322,11.835501285561534,-6.096567360002226,-17.938471793899623,13.577863246828244,-6.111777020703329,-4.992958445561456,-0.5948900151655181,18.840823850792688,-1.1323480469346094,-21.204473593799605,9.082484521857637,9.74418729765226,-8.467948816689955,-9.455575065954065,6.365782462845772,11.115971786311356,11.653315128186804,9.564749162384743,4.67620380329187,10.308674746537761,11.13490608578634,1.6909019168012236,-23.49661212915325,8.809726278251468,-12.978630884718001,-1.2465152695027086,14.955004526827238,-3.7241518575355315,-2.8713188872379334,-20.881456306669747,-2.8032964485844616,-9.538322954693001,-16.186660179899363,-6.5348829691996,1.1373500991682022,-9.371016882767762,21.230044904037328,-20.763461622374535,-0.9034911811037887,0.35952417020828875,-7.411541144117081,-0.3938798932844634,-12.503111641746912,-2.9151256303744333,-25.83421027951951,14.193357951346783,-14.807885807465695,7.764115430867378,10.156715651431824,-13.851714592844601,-0.9058731843463192,5.840067489494103,6.35121018954068,14.61994582524732,8.404927619575972,6.502294409954345,-4.050552719490497,8.719693402907183,-2.8140284250459757,-0.9797499115673673,1.3030400163482625,-8.71254115568297,-11.982434058402546,3.0269097855141354,6.5666145702196985,2.2314745356215866,1.228951265238507,2.2455049990666396,13.473997327628183,23.730380043721098,4.249992087505973,5.753671731387584,5.51796786569588,-17.913886639230967,-10.095842856227364,9.074834413933075,-3.9577938210657067,-15.907508713222953,10.995934272887183,1.2323474277295787,7.896435559665548,-4.2678673738812165,-27.283487940275577,-5.780612868691463,-5.754983544347823,-3.834223897753944,7.612148836150368,-7.436149767023977,-4.123292407667634,-8.091981878422942,-12.395432487171405,-6.143794980324202,3.07034794792267,-4.556400522404559,4.655504133745225,19.231253321744163,-17.504771006261905,-1.939604109568009,-5.934327845036961,-0.18670522274025814,-12.95120657683188,-0.01388754815923221,19.729976473254737,21.93172911870934,2.5060422453621243,3.282034648040039,1.7552494602405204,-6.536516835949811,-2.4672858002401625,8.180821434069301,15.774103994742873,-12.328964797210404,-9.538544432179918,-15.676076956026563,-3.605716730624053,-2.5143336591191456,-8.256760466147526,-12.859122356589296,0.041031101548881566,2.5119946970736464,5.015793666285447,5.476613056883025,-8.99956762196274,9.21238702377623,-19.102178954866986,-18.389003154863175,3.6622941687156043,-17.034213034170236,-3.262101662651162,-6.943146970646055,-0.5769887031814989,2.8427212175935352,5.592536418013779,-5.951492545594547,9.133883449542736,1.4355613374219587,-14.336121859364596,-4.623847244096936,-8.806469701943328,1.6255930880926996,1.969074969568922,-5.6828051094064165,-0.45243971805307126,7.769096488209129,-9.605453526376891,0.05846663581642986,-1.0791124948293316,-18.31127195653697,7.27488076640654,4.7749517150466545,-5.036094987834886,-15.206829609278657,-6.284533571086797,16.34624954399648,5.205906487439108,-10.344896856056721,-17.252846582270493,-9.63387573574117,-2.4047608106029514,-5.533000938198711,2.5053022967644836,9.670461358162669,18.668064154891724,8.050700982410888,16.204199462405427,-3.894660662446995,4.7030493494777375,-5.160887040340043,-1.0190076488827629,4.888610998365678,-5.296658136462042,-6.986627022953513,-22.488230661891635,11.444757855265038,1.7677213852380618,13.120816647475223,2.6777959708847305,9.606300031637716,15.114896944400598,-0.8888565557120103,-6.898985112565242,6.748647328528463,-5.056233680190843,13.075663753532965,4.96990325222869,1.3733340966837346,5.7024778357748005,7.809236291348171,-9.865881569853897,-8.936062060274253,-3.1834651493254853,-3.9778354332236887,-4.2913509839416975,6.215180356470768,-7.378798534019296,-14.672073416389622,1.3453394719947198,-0.3027609555037998,18.914809129585045,-2.737139290872747,5.514887867193863,5.645192888929202,4.437822994897829,-10.976048541276697,-4.44081974919834,7.709264992246773,6.838835060540362,-6.280134618463606,-6.79224585421845,4.61709698807519,5.443171148956608,9.245435954225144,-4.209377205183458,-3.110736804853687,5.066505652892076,4.005366455654766,-18.58110637988088,4.1463448976918045,8.924966270403687,-3.785545909653905,-10.689423801472515,18.964226719946325,5.651791780357925,4.020034564808427,-2.4897092551264706,-8.015357003742167,14.22182302268277,9.508308840623869,-15.91998467613466,4.754812488189685,15.36451654446411,14.309672573944397,11.804683553845436,-17.96570146547723,13.794807773027344,4.991533128256307,-10.599197930584197,-12.841511934135404,-18.258105703317298,10.820714630552757,10.120519121482602,-7.892575918200393,2.3300557248400366,-11.237745394272693,6.569764254324717,-10.970722967931806,-6.714512429988588,4.653085570346775,-3.552642850454035,10.25314708462109,-10.88202861010609,8.382499732331766,-9.53709667325235,-6.442961266342422,6.667297501289866,-7.122279781671594,-3.759695977263121,20.858099317265456,-4.790928343498891,-3.7225568048494466,-14.41253364844917,-1.1804390548141583,-13.55020998240947,5.566684441184165,-13.92134804009956,21.079625296921122,-8.60130563645805,5.509541976424288,11.739087815172908,-3.169822241254508,-7.7390577929892,-7.651861252207041,3.98982473617734,-11.562590862202939,1.5697277828394078,-7.735364560207046,-13.368725548965443,6.14068438826348,-2.4042930701924945,9.954077788469789,5.114056789205804,-2.821156117803042,-15.289676166071786,-11.284464126854502,6.859856580637526,5.622181779131239,5.0333785402021505,4.9596359812727115,-11.138988225271078,-17.012984068849875,9.085450709914497,0.343904475225429,-7.131248944026311,3.087616989990096,9.108856901658882,10.113453526996679,-1.2643830177787976,-8.111173594421729,13.708508447064844,6.633695983536683,-7.724904474629739,12.727836605266283,1.9656979422175453,-9.735930705777449,9.427365592113546,2.1117316806787017,-1.867430938877419,-6.998545319658064,-3.7689351694899784,-8.763320512330978,11.552436727458868,-2.301285496551337,4.321939992774219,10.844252924266215,-0.7965686027381054,10.68867116726237,1.6078731536898232,8.782943256626453,-2.197770333525199,5.806512457398171,-2.2332441245829244,12.657483806041995,-4.707996604416763,-7.956183239560545,3.0752882939264623,20.340012359251517,9.561609207129294,11.051804713074816,4.469889247967359,-9.98064862367491,0.7654158647336686,-0.24108929845861837,-15.709122358444176,6.631368936415981,6.877033773874004,-0.08060247550501742,-6.090826080752635,6.260694011287086,11.780295554744967,8.788010715189529,7.1581822545439735,6.247593004285562,10.533219923888694,-4.738414326566755,-9.3845892413093,-31.468156789463293,1.0843162364866856,-0.6178541668877955,-6.914477826499763,-2.1490880892145157,19.65749752955753,2.25571914960247,13.2796236838265,-13.135204776336835,-0.7710712002407973,1.1974379230602068,-2.975677711784769,-13.670600196210259,10.848009165675094,-2.2181963629448234,12.430261437730195,-5.752827026883821,1.8809426766468533,-14.944158228963389,-12.846857462591771,-10.129550167900703,-6.171635638251686,-3.1832136929936894,-10.112914271495953,9.893614142056137,1.7606914774942766,4.359488233656464,-0.7164610704879664,-10.395246002082018,-2.6548569954778714,2.5484071392145538,-4.739272098924758,8.850218577328931,-7.78925331158861,-9.50680835620149,2.3729836834098137,-10.454104658547621,-6.519155518049004,-22.917180921854623,8.570955786929005,-10.71424123923829,5.461635207142919,8.1332086919642,-1.2077308805706934,0.6671092341433251,10.60934073444264,12.558144928205607,-14.14762589360626,2.985811667051607,11.574283968757051,-3.9438458658105304,-4.098813407442094,19.011635435799974,-9.606799062193971,-5.851690154849848,0.5533891976729493,19.343836113683068,5.095359889098972,0.1516607661124283,-10.138062176072395,4.283257035124052,6.811125464185437,5.483759150386348,4.900425562900139,19.8333036983381,2.758480793042878,13.787228874754035,-4.85095017048571,4.040200209614497,-5.940623009831313,-10.229094903069921,5.6623503788653125,-22.99129988240246,-7.913813932200341,-0.21108556533135925,1.6262420795867598,0.7846374957529605,4.5863113480457685,-1.7930296779568096,27.753000861702645,-4.661178089422322,4.846095017979906,-9.030067301633096,16.078312576384782,-4.11556735774451,-0.497803278830375,-7.277014421487138,-12.005475177848368,-7.656402369168944,9.02883545297962,-3.1907082884872864,0.007825031099997659,6.118249185259998,16.830645464842178,-2.416563513462009,-3.755842349535115,-12.024437006747903,-0.3304862063876328,3.130214491689401,-11.13741161197666,-4.650919338791127,-6.645363219274316,-10.829908816657479,11.8792760562973,1.1972702034531437,-0.19141362950813345,-4.845827056739893,10.986440677768769,4.705862915218134,-13.763101007471306,-9.884871304832075,-7.524807025384348,6.110280722211584,10.152584018823788,-4.736753577780576,12.346280106271848,-1.7810494270844401,4.714095401967398,0.9811403233690612,-1.8104740285274232,-7.227335995447859,-18.961501565474776,-4.6758975038031565,18.982266251327943,11.80219381451748,0.29890438170198763,-18.197634001518963,3.6881215807289394,3.6361031766591907,5.252690246519194,-7.691471915146707,-10.9998684163496,0.28618595787838785,6.637993183587355,4.5492858529549665,3.4249081840118407,-3.2308757097323024,-10.766676402337993,-0.15746399648963916,-11.063794850528666,-4.172799108433537,-10.93541180461115,1.4066356032819272,-2.5284172894120402,-6.026283484775604,-9.73526984848273,-6.118728302298152,8.327324137112981,14.999326139952629,2.4273720595175234,5.285656878584334,3.239179027980441,-9.3682370027786,3.513732535369769,5.176769137743051,-6.369364058261681,-1.6589396268257417,4.65503727114347,-4.547601013284861,7.1864589159018095,-9.078764891845097,10.304063952163204,-8.176888553625574,-16.11075863231801,3.470039306843816,14.68384513236765,-12.995583318987471,3.869979944047813,-0.4098114246646105,-5.147455947439141,0.14419204792784512,10.83072768923337,3.4412417150223007,-14.206550547789078,-11.598521232731159,4.0446891946227055,-16.75640789332762,11.93452039596518,10.065280362153999,6.773669903619208,3.3429396520829897,1.7433915608241577,-11.615819706636785,-0.1511287518688107,3.9105025027153744,-12.779413575154663,9.81154001187572,11.206535306223572,-6.907416484978597,-2.214581229643926,-13.739702600034505,3.354455841012282,-11.39211392567563,15.080242868682404,8.68150296304691,3.543262817844905,-20.758189513445302,-11.191717835350644,-18.395742833829758,0.25148847992660706,-0.8161089854319385,-16.7275983272863,-1.093754698761316,8.776987547102806,-6.991144375641667,15.342479489823816,-6.372052609431847,-8.394461546570213,-15.876995980312046,-16.105683231158636,14.713624022469318,8.720193552933523,17.58369801326988,-6.987916984038819,0.03716244622748377,-2.7167248359233156,3.9531346759808486,-13.201463462102595,-11.62126408216561,-15.780381926841343,-7.449204449434333,-6.0771222956020665,2.968566419576206,12.81101054119091,2.029220955778939,-4.6823650653097815,-2.6033453090476684,17.610909736948656,-5.78566263448073,3.518564783626175,5.321701901306966,0.9030100649640929,-5.55418761901862,9.229466622115837,2.6166244750347687,-1.658823275086661,9.426347077100601,-2.7005151022146805,-9.925147198296742,3.3659045524017586,1.1202602778104023,-0.3188478439999969,-5.576153538767969,5.477187437993123,-5.431480191489754,1.6533594710060413,-10.172326479680663,-7.445772894405536,-8.086204596586299,0.5287246188494521,-3.348489373669935,20.32342500990392,3.8842221656777554,3.6797945838893753,-0.054415171046287014,-0.8979507182621518,8.825210382697534,5.087115292741927,3.1757153232502446,12.151632102830973,-21.304975604953853,15.22079005018167,19.063760909652856,-2.1017546982578494,-8.401037809318751,8.756644885673765,-8.347293742944842,-5.982494634332426,-2.165846097342026,18.107558492977446,2.7584104226770307,-3.6721146519195855,1.9677668220673326,-0.08222152628806612,12.179385341061106,-10.042640798013068,12.13834506977095,-11.365881969847777,-13.617338686787576,-1.9375388617459208,-3.418771659615473,-11.686708958333995,8.956946264175073,-15.567895386086207,-0.8717927489470156,1.2683065545362098,-3.5939677711903784,1.2191566096032886,5.825900133831809,-7.092346878409884,-0.6746404253994882,-2.566723006642377,-22.18853839829019,8.495553218777005,4.828284295398589,6.887101872273945,-6.461002629941355,-5.093486476930067,-5.35245405617006,-2.943968809920122],\"xaxis\":\"x\",\"yaxis\":\"y\",\"type\":\"histogram\"}],                        {\"template\":{\"data\":{\"histogram2dcontour\":[{\"type\":\"histogram2dcontour\",\"colorbar\":{\"outlinewidth\":0,\"ticks\":\"\"},\"colorscale\":[[0.0,\"#0d0887\"],[0.1111111111111111,\"#46039f\"],[0.2222222222222222,\"#7201a8\"],[0.3333333333333333,\"#9c179e\"],[0.4444444444444444,\"#bd3786\"],[0.5555555555555556,\"#d8576b\"],[0.6666666666666666,\"#ed7953\"],[0.7777777777777778,\"#fb9f3a\"],[0.8888888888888888,\"#fdca26\"],[1.0,\"#f0f921\"]]}],\"choropleth\":[{\"type\":\"choropleth\",\"colorbar\":{\"outlinewidth\":0,\"ticks\":\"\"}}],\"histogram2d\":[{\"type\":\"histogram2d\",\"colorbar\":{\"outlinewidth\":0,\"ticks\":\"\"},\"colorscale\":[[0.0,\"#0d0887\"],[0.1111111111111111,\"#46039f\"],[0.2222222222222222,\"#7201a8\"],[0.3333333333333333,\"#9c179e\"],[0.4444444444444444,\"#bd3786\"],[0.5555555555555556,\"#d8576b\"],[0.6666666666666666,\"#ed7953\"],[0.7777777777777778,\"#fb9f3a\"],[0.8888888888888888,\"#fdca26\"],[1.0,\"#f0f921\"]]}],\"heatmap\":[{\"type\":\"heatmap\",\"colorbar\":{\"outlinewidth\":0,\"ticks\":\"\"},\"colorscale\":[[0.0,\"#0d0887\"],[0.1111111111111111,\"#46039f\"],[0.2222222222222222,\"#7201a8\"],[0.3333333333333333,\"#9c179e\"],[0.4444444444444444,\"#bd3786\"],[0.5555555555555556,\"#d8576b\"],[0.6666666666666666,\"#ed7953\"],[0.7777777777777778,\"#fb9f3a\"],[0.8888888888888888,\"#fdca26\"],[1.0,\"#f0f921\"]]}],\"heatmapgl\":[{\"type\":\"heatmapgl\",\"colorbar\":{\"outlinewidth\":0,\"ticks\":\"\"},\"colorscale\":[[0.0,\"#0d0887\"],[0.1111111111111111,\"#46039f\"],[0.2222222222222222,\"#7201a8\"],[0.3333333333333333,\"#9c179e\"],[0.4444444444444444,\"#bd3786\"],[0.5555555555555556,\"#d8576b\"],[0.6666666666666666,\"#ed7953\"],[0.7777777777777778,\"#fb9f3a\"],[0.8888888888888888,\"#fdca26\"],[1.0,\"#f0f921\"]]}],\"contourcarpet\":[{\"type\":\"contourcarpet\",\"colorbar\":{\"outlinewidth\":0,\"ticks\":\"\"}}],\"contour\":[{\"type\":\"contour\",\"colorbar\":{\"outlinewidth\":0,\"ticks\":\"\"},\"colorscale\":[[0.0,\"#0d0887\"],[0.1111111111111111,\"#46039f\"],[0.2222222222222222,\"#7201a8\"],[0.3333333333333333,\"#9c179e\"],[0.4444444444444444,\"#bd3786\"],[0.5555555555555556,\"#d8576b\"],[0.6666666666666666,\"#ed7953\"],[0.7777777777777778,\"#fb9f3a\"],[0.8888888888888888,\"#fdca26\"],[1.0,\"#f0f921\"]]}],\"surface\":[{\"type\":\"surface\",\"colorbar\":{\"outlinewidth\":0,\"ticks\":\"\"},\"colorscale\":[[0.0,\"#0d0887\"],[0.1111111111111111,\"#46039f\"],[0.2222222222222222,\"#7201a8\"],[0.3333333333333333,\"#9c179e\"],[0.4444444444444444,\"#bd3786\"],[0.5555555555555556,\"#d8576b\"],[0.6666666666666666,\"#ed7953\"],[0.7777777777777778,\"#fb9f3a\"],[0.8888888888888888,\"#fdca26\"],[1.0,\"#f0f921\"]]}],\"mesh3d\":[{\"type\":\"mesh3d\",\"colorbar\":{\"outlinewidth\":0,\"ticks\":\"\"}}],\"scatter\":[{\"fillpattern\":{\"fillmode\":\"overlay\",\"size\":10,\"solidity\":0.2},\"type\":\"scatter\"}],\"parcoords\":[{\"type\":\"parcoords\",\"line\":{\"colorbar\":{\"outlinewidth\":0,\"ticks\":\"\"}}}],\"scatterpolargl\":[{\"type\":\"scatterpolargl\",\"marker\":{\"colorbar\":{\"outlinewidth\":0,\"ticks\":\"\"}}}],\"bar\":[{\"error_x\":{\"color\":\"#2a3f5f\"},\"error_y\":{\"color\":\"#2a3f5f\"},\"marker\":{\"line\":{\"color\":\"#E5ECF6\",\"width\":0.5},\"pattern\":{\"fillmode\":\"overlay\",\"size\":10,\"solidity\":0.2}},\"type\":\"bar\"}],\"scattergeo\":[{\"type\":\"scattergeo\",\"marker\":{\"colorbar\":{\"outlinewidth\":0,\"ticks\":\"\"}}}],\"scatterpolar\":[{\"type\":\"scatterpolar\",\"marker\":{\"colorbar\":{\"outlinewidth\":0,\"ticks\":\"\"}}}],\"histogram\":[{\"marker\":{\"pattern\":{\"fillmode\":\"overlay\",\"size\":10,\"solidity\":0.2}},\"type\":\"histogram\"}],\"scattergl\":[{\"type\":\"scattergl\",\"marker\":{\"colorbar\":{\"outlinewidth\":0,\"ticks\":\"\"}}}],\"scatter3d\":[{\"type\":\"scatter3d\",\"line\":{\"colorbar\":{\"outlinewidth\":0,\"ticks\":\"\"}},\"marker\":{\"colorbar\":{\"outlinewidth\":0,\"ticks\":\"\"}}}],\"scattermapbox\":[{\"type\":\"scattermapbox\",\"marker\":{\"colorbar\":{\"outlinewidth\":0,\"ticks\":\"\"}}}],\"scatterternary\":[{\"type\":\"scatterternary\",\"marker\":{\"colorbar\":{\"outlinewidth\":0,\"ticks\":\"\"}}}],\"scattercarpet\":[{\"type\":\"scattercarpet\",\"marker\":{\"colorbar\":{\"outlinewidth\":0,\"ticks\":\"\"}}}],\"carpet\":[{\"aaxis\":{\"endlinecolor\":\"#2a3f5f\",\"gridcolor\":\"white\",\"linecolor\":\"white\",\"minorgridcolor\":\"white\",\"startlinecolor\":\"#2a3f5f\"},\"baxis\":{\"endlinecolor\":\"#2a3f5f\",\"gridcolor\":\"white\",\"linecolor\":\"white\",\"minorgridcolor\":\"white\",\"startlinecolor\":\"#2a3f5f\"},\"type\":\"carpet\"}],\"table\":[{\"cells\":{\"fill\":{\"color\":\"#EBF0F8\"},\"line\":{\"color\":\"white\"}},\"header\":{\"fill\":{\"color\":\"#C8D4E3\"},\"line\":{\"color\":\"white\"}},\"type\":\"table\"}],\"barpolar\":[{\"marker\":{\"line\":{\"color\":\"#E5ECF6\",\"width\":0.5},\"pattern\":{\"fillmode\":\"overlay\",\"size\":10,\"solidity\":0.2}},\"type\":\"barpolar\"}],\"pie\":[{\"automargin\":true,\"type\":\"pie\"}]},\"layout\":{\"autotypenumbers\":\"strict\",\"colorway\":[\"#636efa\",\"#EF553B\",\"#00cc96\",\"#ab63fa\",\"#FFA15A\",\"#19d3f3\",\"#FF6692\",\"#B6E880\",\"#FF97FF\",\"#FECB52\"],\"font\":{\"color\":\"#2a3f5f\"},\"hovermode\":\"closest\",\"hoverlabel\":{\"align\":\"left\"},\"paper_bgcolor\":\"white\",\"plot_bgcolor\":\"#E5ECF6\",\"polar\":{\"bgcolor\":\"#E5ECF6\",\"angularaxis\":{\"gridcolor\":\"white\",\"linecolor\":\"white\",\"ticks\":\"\"},\"radialaxis\":{\"gridcolor\":\"white\",\"linecolor\":\"white\",\"ticks\":\"\"}},\"ternary\":{\"bgcolor\":\"#E5ECF6\",\"aaxis\":{\"gridcolor\":\"white\",\"linecolor\":\"white\",\"ticks\":\"\"},\"baxis\":{\"gridcolor\":\"white\",\"linecolor\":\"white\",\"ticks\":\"\"},\"caxis\":{\"gridcolor\":\"white\",\"linecolor\":\"white\",\"ticks\":\"\"}},\"coloraxis\":{\"colorbar\":{\"outlinewidth\":0,\"ticks\":\"\"}},\"colorscale\":{\"sequential\":[[0.0,\"#0d0887\"],[0.1111111111111111,\"#46039f\"],[0.2222222222222222,\"#7201a8\"],[0.3333333333333333,\"#9c179e\"],[0.4444444444444444,\"#bd3786\"],[0.5555555555555556,\"#d8576b\"],[0.6666666666666666,\"#ed7953\"],[0.7777777777777778,\"#fb9f3a\"],[0.8888888888888888,\"#fdca26\"],[1.0,\"#f0f921\"]],\"sequentialminus\":[[0.0,\"#0d0887\"],[0.1111111111111111,\"#46039f\"],[0.2222222222222222,\"#7201a8\"],[0.3333333333333333,\"#9c179e\"],[0.4444444444444444,\"#bd3786\"],[0.5555555555555556,\"#d8576b\"],[0.6666666666666666,\"#ed7953\"],[0.7777777777777778,\"#fb9f3a\"],[0.8888888888888888,\"#fdca26\"],[1.0,\"#f0f921\"]],\"diverging\":[[0,\"#8e0152\"],[0.1,\"#c51b7d\"],[0.2,\"#de77ae\"],[0.3,\"#f1b6da\"],[0.4,\"#fde0ef\"],[0.5,\"#f7f7f7\"],[0.6,\"#e6f5d0\"],[0.7,\"#b8e186\"],[0.8,\"#7fbc41\"],[0.9,\"#4d9221\"],[1,\"#276419\"]]},\"xaxis\":{\"gridcolor\":\"white\",\"linecolor\":\"white\",\"ticks\":\"\",\"title\":{\"standoff\":15},\"zerolinecolor\":\"white\",\"automargin\":true,\"zerolinewidth\":2},\"yaxis\":{\"gridcolor\":\"white\",\"linecolor\":\"white\",\"ticks\":\"\",\"title\":{\"standoff\":15},\"zerolinecolor\":\"white\",\"automargin\":true,\"zerolinewidth\":2},\"scene\":{\"xaxis\":{\"backgroundcolor\":\"#E5ECF6\",\"gridcolor\":\"white\",\"linecolor\":\"white\",\"showbackground\":true,\"ticks\":\"\",\"zerolinecolor\":\"white\",\"gridwidth\":2},\"yaxis\":{\"backgroundcolor\":\"#E5ECF6\",\"gridcolor\":\"white\",\"linecolor\":\"white\",\"showbackground\":true,\"ticks\":\"\",\"zerolinecolor\":\"white\",\"gridwidth\":2},\"zaxis\":{\"backgroundcolor\":\"#E5ECF6\",\"gridcolor\":\"white\",\"linecolor\":\"white\",\"showbackground\":true,\"ticks\":\"\",\"zerolinecolor\":\"white\",\"gridwidth\":2}},\"shapedefaults\":{\"line\":{\"color\":\"#2a3f5f\"}},\"annotationdefaults\":{\"arrowcolor\":\"#2a3f5f\",\"arrowhead\":0,\"arrowwidth\":1},\"geo\":{\"bgcolor\":\"white\",\"landcolor\":\"#E5ECF6\",\"subunitcolor\":\"white\",\"showland\":true,\"showlakes\":true,\"lakecolor\":\"white\"},\"title\":{\"x\":0.05},\"mapbox\":{\"style\":\"light\"}}},\"xaxis\":{\"anchor\":\"y\",\"domain\":[0.0,1.0],\"title\":{\"text\":\"error\"}},\"yaxis\":{\"anchor\":\"x\",\"domain\":[0.0,1.0],\"title\":{\"text\":\"count\"}},\"legend\":{\"tracegroupgap\":0},\"margin\":{\"t\":60},\"barmode\":\"relative\",\"width\":800},                        {\"responsive\": true}                    ).then(function(){\n",
              "                            \n",
              "var gd = document.getElementById('bf9ad57f-6aea-4e3f-bd56-5c5cc84929c4');\n",
              "var x = new MutationObserver(function (mutations, observer) {{\n",
              "        var display = window.getComputedStyle(gd).display;\n",
              "        if (!display || display === 'none') {{\n",
              "            console.log([gd, 'removed!']);\n",
              "            Plotly.purge(gd);\n",
              "            observer.disconnect();\n",
              "        }}\n",
              "}});\n",
              "\n",
              "// Listen for the removal of the full notebook cells\n",
              "var notebookContainer = gd.closest('#notebook-container');\n",
              "if (notebookContainer) {{\n",
              "    x.observe(notebookContainer, {childList: true});\n",
              "}}\n",
              "\n",
              "// Listen for the clearing of the current output cell\n",
              "var outputEl = gd.closest('.output');\n",
              "if (outputEl) {{\n",
              "    x.observe(outputEl, {childList: true});\n",
              "}}\n",
              "\n",
              "                        })                };                            </script>        </div>\n",
              "</body>\n",
              "</html>"
            ]
          },
          "metadata": {}
        }
      ]
    },
    {
      "cell_type": "markdown",
      "source": [
        "### <a name='a3'></a> Mean Absolute Error - średni błąd bezwzględny\n",
        "### $$MAE = \\frac{1}{n}\\sum_{i=1}^{n}|y_{true} - y_{pred}|$$"
      ],
      "metadata": {
        "id": "gyB4QYiZigQl"
      }
    },
    {
      "cell_type": "code",
      "source": [
        "def mean_absolute_error(y_true, y_pred):\n",
        "  return abs(y_true - y_pred).sum() / len(y_true)\n",
        "\n",
        "mean_absolute_error(y_true, y_pred)"
      ],
      "metadata": {
        "colab": {
          "base_uri": "https://localhost:8080/"
        },
        "id": "WUWATSUMjLsl",
        "outputId": "00d4ff40-d4b3-439e-c461-057dccb59fbc"
      },
      "execution_count": 10,
      "outputs": [
        {
          "output_type": "execute_result",
          "data": {
            "text/plain": [
              "8.000039648563577"
            ]
          },
          "metadata": {},
          "execution_count": 10
        }
      ]
    },
    {
      "cell_type": "code",
      "source": [
        "from sklearn.metrics import mean_absolute_error\n",
        "mean_absolute_error(y_true, y_pred)"
      ],
      "metadata": {
        "colab": {
          "base_uri": "https://localhost:8080/"
        },
        "id": "R-V6HJC9wN_s",
        "outputId": "cc7fa54a-fe3f-4d1a-aedd-0e451e17743b"
      },
      "execution_count": 11,
      "outputs": [
        {
          "output_type": "execute_result",
          "data": {
            "text/plain": [
              "8.000039648563577"
            ]
          },
          "metadata": {},
          "execution_count": 11
        }
      ]
    },
    {
      "cell_type": "markdown",
      "source": [
        "### <a name='a4'></a> Mean Squared Error - MSE - błąd średniokwadratowy\n",
        "### $$MSE = \\frac{1}{n}\\sum_{i=1}^{n}(y_{true} - y_{pred})^{2}$$"
      ],
      "metadata": {
        "id": "WDlfhYVhjMHT"
      }
    },
    {
      "cell_type": "code",
      "source": [
        "def mean_squared_error(y_true, y_pred):\n",
        "  return ((y_true - y_pred) ** 2).sum() / len(y_true)\n",
        "\n",
        "mean_squared_error(y_true, y_pred)"
      ],
      "metadata": {
        "colab": {
          "base_uri": "https://localhost:8080/"
        },
        "id": "gOGqfKjojqDi",
        "outputId": "78655f99-cb3e-462f-aaa5-14aa296f9198"
      },
      "execution_count": 12,
      "outputs": [
        {
          "output_type": "execute_result",
          "data": {
            "text/plain": [
              "97.167194131639"
            ]
          },
          "metadata": {},
          "execution_count": 12
        }
      ]
    },
    {
      "cell_type": "code",
      "source": [
        "from sklearn.metrics import mean_squared_error\n",
        "mean_squared_error(y_true, y_pred)"
      ],
      "metadata": {
        "colab": {
          "base_uri": "https://localhost:8080/"
        },
        "id": "92d3sBZryWg2",
        "outputId": "2992facd-ddbb-4534-d9d1-3036a59e0310"
      },
      "execution_count": 13,
      "outputs": [
        {
          "output_type": "execute_result",
          "data": {
            "text/plain": [
              "97.167194131639"
            ]
          },
          "metadata": {},
          "execution_count": 13
        }
      ]
    },
    {
      "cell_type": "markdown",
      "source": [
        "### <a name='a5'></a> Root Mean Squared Error - RMSE - pierwiastek błędu średniokwadratowego\n",
        "### $$RMSE = \\sqrt{MSE}$$"
      ],
      "metadata": {
        "id": "XH7RrEjZjqkU"
      }
    },
    {
      "cell_type": "code",
      "source": [
        "def root_mean_squared_error(y_true, y_pred):\n",
        "  return np.sqrt(((y_true - y_pred) ** 2).sum() / len(y_true))\n",
        "\n",
        "root_mean_squared_error(y_true, y_pred)"
      ],
      "metadata": {
        "colab": {
          "base_uri": "https://localhost:8080/"
        },
        "id": "sIQZZ6ifj-qZ",
        "outputId": "c8727536-0870-46c0-c988-af8011c01adc"
      },
      "execution_count": 14,
      "outputs": [
        {
          "output_type": "execute_result",
          "data": {
            "text/plain": [
              "9.857342143379167"
            ]
          },
          "metadata": {},
          "execution_count": 14
        }
      ]
    },
    {
      "cell_type": "code",
      "source": [
        "np.sqrt(mean_squared_error(y_true, y_pred))"
      ],
      "metadata": {
        "colab": {
          "base_uri": "https://localhost:8080/"
        },
        "id": "L7NcD4v4zIR0",
        "outputId": "d9c5535f-95c9-481a-e19d-0c6ecd0a08ec"
      },
      "execution_count": 15,
      "outputs": [
        {
          "output_type": "execute_result",
          "data": {
            "text/plain": [
              "9.857342143379167"
            ]
          },
          "metadata": {},
          "execution_count": 15
        }
      ]
    },
    {
      "cell_type": "markdown",
      "source": [
        "### <a name='a6'></a> Max Error - błąd maksymalny\n",
        "\n",
        "$$ME = max(|y\\_true - y\\_pred|)$$"
      ],
      "metadata": {
        "id": "A1eepSmmj-_f"
      }
    },
    {
      "cell_type": "code",
      "source": [
        "def max_error(y_true, y_pred):\n",
        "  return abs(y_true - y_pred).max()"
      ],
      "metadata": {
        "id": "JrCrzZhWkUDC"
      },
      "execution_count": 16,
      "outputs": []
    },
    {
      "cell_type": "code",
      "source": [
        "max_error(y_true, y_pred)"
      ],
      "metadata": {
        "colab": {
          "base_uri": "https://localhost:8080/"
        },
        "id": "XT3K6BWf1z-M",
        "outputId": "7ecca61d-3ba8-4de0-ccbf-2ac9cff259d6"
      },
      "execution_count": 17,
      "outputs": [
        {
          "output_type": "execute_result",
          "data": {
            "text/plain": [
              "31.468156789463293"
            ]
          },
          "metadata": {},
          "execution_count": 17
        }
      ]
    },
    {
      "cell_type": "code",
      "source": [
        "from sklearn.metrics import max_error\n",
        "\n",
        "max_error(y_true, y_pred)"
      ],
      "metadata": {
        "colab": {
          "base_uri": "https://localhost:8080/"
        },
        "id": "HYcRv-8913Yj",
        "outputId": "dd4c0a12-1beb-470b-d14d-361b97a75671"
      },
      "execution_count": 18,
      "outputs": [
        {
          "output_type": "execute_result",
          "data": {
            "text/plain": [
              "31.468156789463293"
            ]
          },
          "metadata": {},
          "execution_count": 18
        }
      ]
    },
    {
      "cell_type": "markdown",
      "source": [
        "### <a name='a7'></a> R2 score - współczynnik determniancji\n",
        "### $$R2\\_score = 1 - \\frac{\\sum_{i=1}^{N}(y_{true} - y_{pred})^{2}}{\\sum_{i=1}^{N}(y_{true} - \\overline{y_{true}})^{2}}$$"
      ],
      "metadata": {
        "id": "RnuwwR4CkU-w"
      }
    },
    {
      "cell_type": "code",
      "source": [
        "from sklearn.metrics import r2_score\n",
        "\n",
        "r2_score(y_true, y_pred)"
      ],
      "metadata": {
        "colab": {
          "base_uri": "https://localhost:8080/"
        },
        "id": "hHC6PaurlT04",
        "outputId": "111e0a38-e1b9-4713-cd46-84ee3fd72c56"
      },
      "execution_count": 19,
      "outputs": [
        {
          "output_type": "execute_result",
          "data": {
            "text/plain": [
              "0.7748858250325559"
            ]
          },
          "metadata": {},
          "execution_count": 19
        }
      ]
    },
    {
      "cell_type": "code",
      "source": [
        "def r2_score(y_true, y_pred):\n",
        "  numerator = ((y_true - y_pred) ** 2).sum()\n",
        "  denominator = ((y_true - y_true.mean()) ** 2).sum()\n",
        "  try:\n",
        "    r2 = 1 - numerator / denominator\n",
        "  except ZeroDivisionError:\n",
        "    print('Dzielenie przez zero')\n",
        "  return r2"
      ],
      "metadata": {
        "id": "w1XFifPt2Y-F"
      },
      "execution_count": 20,
      "outputs": []
    },
    {
      "cell_type": "code",
      "source": [
        "r2_score(y_true, y_pred)"
      ],
      "metadata": {
        "colab": {
          "base_uri": "https://localhost:8080/"
        },
        "id": "mR5OozQ23Ks0",
        "outputId": "27371532-00a9-4d9b-b05e-057a36c1c3e1"
      },
      "execution_count": 21,
      "outputs": [
        {
          "output_type": "execute_result",
          "data": {
            "text/plain": [
              "0.7748858250325559"
            ]
          },
          "metadata": {},
          "execution_count": 21
        }
      ]
    }
  ]
}